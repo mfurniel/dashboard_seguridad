{
 "cells": [
  {
   "cell_type": "code",
   "execution_count": null,
   "metadata": {},
   "outputs": [],
   "source": [
    "import pandas as pd\n",
    "import plotly.graph_objects as go\n",
    "import numpy as np"
   ]
  },
  {
   "cell_type": "code",
   "execution_count": null,
   "metadata": {},
   "outputs": [],
   "source": [
    "año_buscado='2008'"
   ]
  },
  {
   "cell_type": "code",
   "execution_count": null,
   "metadata": {},
   "outputs": [],
   "source": [
    "df = pd.read_excel('dataset/nacional/sexo_edad_nacional.xlsx')\n",
    "filtro = (df['Tipo Participante'] == 'VICTIMA') & (df['Sexo'] == 'HOMBRE')\n",
    "fila_filtrada = df[filtro]\n",
    "columnas_2006 = fila_filtrada[['Edad', año_buscado]]\n",
    "columnas_2006 = columnas_2006[:-2]\n",
    "columnas_2006_transpuesta = columnas_2006.T\n",
    "columnas_2006_transpuesta\n",
    "columnas_2006[año_buscado]"
   ]
  },
  {
   "cell_type": "code",
   "execution_count": null,
   "metadata": {},
   "outputs": [],
   "source": [
    "variables = np.array(columnas_2006['Edad'])\n",
    "frecuencias = np.array(columnas_2006[año_buscado])\n",
    "# Crear una lista con los valores de las variables repetidos según su frecuencia\n",
    "datos = []\n",
    "for variable, frecuencia in zip(variables, frecuencias):\n",
    "    datos.extend([variable] * frecuencia)\n",
    "\n",
    "# Crear el gráfico de Box Plot\n",
    "fig = go.Figure()\n",
    "\n",
    "fig.add_trace(go.Box(y=datos, name='Datos'))\n",
    "\n",
    "# Personalizar el diseño del gráfico\n",
    "fig.update_layout(title='Box Plot de Variables',\n",
    "                  xaxis_title='Variables',\n",
    "                  yaxis_title='Valores')\n",
    "\n",
    "# Mostrar el gráfico\n",
    "fig.show()"
   ]
  }
 ],
 "metadata": {
  "kernelspec": {
   "display_name": "Python 3",
   "language": "python",
   "name": "python3"
  },
  "language_info": {
   "codemirror_mode": {
    "name": "ipython",
    "version": 3
   },
   "file_extension": ".py",
   "mimetype": "text/x-python",
   "name": "python",
   "nbconvert_exporter": "python",
   "pygments_lexer": "ipython3",
   "version": "3.10.10"
  },
  "orig_nbformat": 4
 },
 "nbformat": 4,
 "nbformat_minor": 2
}
