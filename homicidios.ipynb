{
 "cells": [
  {
   "cell_type": "code",
   "execution_count": 8,
   "metadata": {},
   "outputs": [],
   "source": [
    "import pandas as pd\n",
    "import plotly.graph_objects as go"
   ]
  },
  {
   "cell_type": "code",
   "execution_count": 9,
   "metadata": {},
   "outputs": [
    {
     "data": {
      "text/html": [
       "<div>\n",
       "<style scoped>\n",
       "    .dataframe tbody tr th:only-of-type {\n",
       "        vertical-align: middle;\n",
       "    }\n",
       "\n",
       "    .dataframe tbody tr th {\n",
       "        vertical-align: top;\n",
       "    }\n",
       "\n",
       "    .dataframe thead th {\n",
       "        text-align: right;\n",
       "    }\n",
       "</style>\n",
       "<table border=\"1\" class=\"dataframe\">\n",
       "  <thead>\n",
       "    <tr style=\"text-align: right;\">\n",
       "      <th></th>\n",
       "      <th>enero</th>\n",
       "      <th>febrero</th>\n",
       "      <th>marzo</th>\n",
       "      <th>abril</th>\n",
       "      <th>mayo</th>\n",
       "      <th>junio</th>\n",
       "      <th>julio</th>\n",
       "      <th>agosto</th>\n",
       "      <th>septiembre</th>\n",
       "      <th>octubre</th>\n",
       "      <th>noviembre</th>\n",
       "      <th>diciembre</th>\n",
       "    </tr>\n",
       "    <tr>\n",
       "      <th>Delitos</th>\n",
       "      <th></th>\n",
       "      <th></th>\n",
       "      <th></th>\n",
       "      <th></th>\n",
       "      <th></th>\n",
       "      <th></th>\n",
       "      <th></th>\n",
       "      <th></th>\n",
       "      <th></th>\n",
       "      <th></th>\n",
       "      <th></th>\n",
       "      <th></th>\n",
       "    </tr>\n",
       "  </thead>\n",
       "  <tbody>\n",
       "    <tr>\n",
       "      <th>Delitos de mayor connotación social</th>\n",
       "      <td>35845</td>\n",
       "      <td>33029</td>\n",
       "      <td>40242</td>\n",
       "      <td>39155</td>\n",
       "      <td>41363</td>\n",
       "      <td>39126</td>\n",
       "      <td>39564</td>\n",
       "      <td>43270</td>\n",
       "      <td>43089</td>\n",
       "      <td>44043</td>\n",
       "      <td>44317</td>\n",
       "      <td>45225</td>\n",
       "    </tr>\n",
       "    <tr>\n",
       "      <th>Homicidios</th>\n",
       "      <td>95</td>\n",
       "      <td>83</td>\n",
       "      <td>81</td>\n",
       "      <td>47</td>\n",
       "      <td>82</td>\n",
       "      <td>68</td>\n",
       "      <td>65</td>\n",
       "      <td>72</td>\n",
       "      <td>98</td>\n",
       "      <td>84</td>\n",
       "      <td>85</td>\n",
       "      <td>74</td>\n",
       "    </tr>\n",
       "    <tr>\n",
       "      <th>Hurtos</th>\n",
       "      <td>8304</td>\n",
       "      <td>7818</td>\n",
       "      <td>9438</td>\n",
       "      <td>9268</td>\n",
       "      <td>9721</td>\n",
       "      <td>9280</td>\n",
       "      <td>9788</td>\n",
       "      <td>10886</td>\n",
       "      <td>10665</td>\n",
       "      <td>10511</td>\n",
       "      <td>10820</td>\n",
       "      <td>11632</td>\n",
       "    </tr>\n",
       "    <tr>\n",
       "      <th>Lesiones leves</th>\n",
       "      <td>4342</td>\n",
       "      <td>3858</td>\n",
       "      <td>5326</td>\n",
       "      <td>4870</td>\n",
       "      <td>5030</td>\n",
       "      <td>4124</td>\n",
       "      <td>3686</td>\n",
       "      <td>5108</td>\n",
       "      <td>4940</td>\n",
       "      <td>5360</td>\n",
       "      <td>5538</td>\n",
       "      <td>5430</td>\n",
       "    </tr>\n",
       "    <tr>\n",
       "      <th>Lesiones menos graves, graves o gravísimas</th>\n",
       "      <td>1491</td>\n",
       "      <td>1335</td>\n",
       "      <td>1539</td>\n",
       "      <td>1374</td>\n",
       "      <td>1338</td>\n",
       "      <td>1253</td>\n",
       "      <td>1224</td>\n",
       "      <td>1426</td>\n",
       "      <td>1521</td>\n",
       "      <td>1558</td>\n",
       "      <td>1618</td>\n",
       "      <td>1714</td>\n",
       "    </tr>\n",
       "    <tr>\n",
       "      <th>Otros robos con fuerza</th>\n",
       "      <td>620</td>\n",
       "      <td>584</td>\n",
       "      <td>762</td>\n",
       "      <td>720</td>\n",
       "      <td>777</td>\n",
       "      <td>644</td>\n",
       "      <td>656</td>\n",
       "      <td>712</td>\n",
       "      <td>730</td>\n",
       "      <td>762</td>\n",
       "      <td>806</td>\n",
       "      <td>753</td>\n",
       "    </tr>\n",
       "    <tr>\n",
       "      <th>Robo con violencia o intimidación</th>\n",
       "      <td>5574</td>\n",
       "      <td>5189</td>\n",
       "      <td>6433</td>\n",
       "      <td>6104</td>\n",
       "      <td>6835</td>\n",
       "      <td>6716</td>\n",
       "      <td>6777</td>\n",
       "      <td>6896</td>\n",
       "      <td>6993</td>\n",
       "      <td>7014</td>\n",
       "      <td>6851</td>\n",
       "      <td>7186</td>\n",
       "    </tr>\n",
       "    <tr>\n",
       "      <th>Robo de objetos de o desde vehículo</th>\n",
       "      <td>3670</td>\n",
       "      <td>3412</td>\n",
       "      <td>3979</td>\n",
       "      <td>3993</td>\n",
       "      <td>4373</td>\n",
       "      <td>4196</td>\n",
       "      <td>4380</td>\n",
       "      <td>4667</td>\n",
       "      <td>4478</td>\n",
       "      <td>4670</td>\n",
       "      <td>4695</td>\n",
       "      <td>4928</td>\n",
       "    </tr>\n",
       "    <tr>\n",
       "      <th>Robo de vehículo motorizado</th>\n",
       "      <td>2839</td>\n",
       "      <td>2524</td>\n",
       "      <td>2975</td>\n",
       "      <td>2971</td>\n",
       "      <td>2836</td>\n",
       "      <td>2695</td>\n",
       "      <td>2665</td>\n",
       "      <td>2688</td>\n",
       "      <td>2741</td>\n",
       "      <td>2890</td>\n",
       "      <td>2734</td>\n",
       "      <td>2782</td>\n",
       "    </tr>\n",
       "    <tr>\n",
       "      <th>Robo en lugar habitado</th>\n",
       "      <td>3349</td>\n",
       "      <td>3117</td>\n",
       "      <td>3385</td>\n",
       "      <td>3586</td>\n",
       "      <td>3743</td>\n",
       "      <td>3772</td>\n",
       "      <td>3776</td>\n",
       "      <td>3765</td>\n",
       "      <td>3844</td>\n",
       "      <td>3792</td>\n",
       "      <td>3629</td>\n",
       "      <td>3621</td>\n",
       "    </tr>\n",
       "    <tr>\n",
       "      <th>Robo en lugar no habitado</th>\n",
       "      <td>3108</td>\n",
       "      <td>2815</td>\n",
       "      <td>3550</td>\n",
       "      <td>3633</td>\n",
       "      <td>3877</td>\n",
       "      <td>3868</td>\n",
       "      <td>3879</td>\n",
       "      <td>4106</td>\n",
       "      <td>3871</td>\n",
       "      <td>4259</td>\n",
       "      <td>4323</td>\n",
       "      <td>3859</td>\n",
       "    </tr>\n",
       "    <tr>\n",
       "      <th>Robo por sorpresa</th>\n",
       "      <td>2075</td>\n",
       "      <td>1985</td>\n",
       "      <td>2309</td>\n",
       "      <td>2161</td>\n",
       "      <td>2277</td>\n",
       "      <td>2124</td>\n",
       "      <td>2336</td>\n",
       "      <td>2535</td>\n",
       "      <td>2809</td>\n",
       "      <td>2699</td>\n",
       "      <td>2796</td>\n",
       "      <td>2819</td>\n",
       "    </tr>\n",
       "    <tr>\n",
       "      <th>Violaciones</th>\n",
       "      <td>378</td>\n",
       "      <td>309</td>\n",
       "      <td>465</td>\n",
       "      <td>428</td>\n",
       "      <td>474</td>\n",
       "      <td>386</td>\n",
       "      <td>332</td>\n",
       "      <td>409</td>\n",
       "      <td>399</td>\n",
       "      <td>444</td>\n",
       "      <td>422</td>\n",
       "      <td>427</td>\n",
       "    </tr>\n",
       "    <tr>\n",
       "      <th>Infracción a ley de armas</th>\n",
       "      <td>841</td>\n",
       "      <td>691</td>\n",
       "      <td>1020</td>\n",
       "      <td>1015</td>\n",
       "      <td>1112</td>\n",
       "      <td>2099</td>\n",
       "      <td>1661</td>\n",
       "      <td>1031</td>\n",
       "      <td>1205</td>\n",
       "      <td>1146</td>\n",
       "      <td>1356</td>\n",
       "      <td>972</td>\n",
       "    </tr>\n",
       "    <tr>\n",
       "      <th>Abandono de armas</th>\n",
       "      <td>0</td>\n",
       "      <td>0</td>\n",
       "      <td>0</td>\n",
       "      <td>0</td>\n",
       "      <td>0</td>\n",
       "      <td>0</td>\n",
       "      <td>0</td>\n",
       "      <td>0</td>\n",
       "      <td>0</td>\n",
       "      <td>0</td>\n",
       "      <td>0</td>\n",
       "      <td>0</td>\n",
       "    </tr>\n",
       "    <tr>\n",
       "      <th>Hallazgo de armas o explosivos</th>\n",
       "      <td>49</td>\n",
       "      <td>45</td>\n",
       "      <td>46</td>\n",
       "      <td>40</td>\n",
       "      <td>50</td>\n",
       "      <td>35</td>\n",
       "      <td>43</td>\n",
       "      <td>47</td>\n",
       "      <td>34</td>\n",
       "      <td>58</td>\n",
       "      <td>40</td>\n",
       "      <td>33</td>\n",
       "    </tr>\n",
       "    <tr>\n",
       "      <th>Otros ley de armas</th>\n",
       "      <td>239</td>\n",
       "      <td>191</td>\n",
       "      <td>264</td>\n",
       "      <td>248</td>\n",
       "      <td>317</td>\n",
       "      <td>1299</td>\n",
       "      <td>1033</td>\n",
       "      <td>308</td>\n",
       "      <td>518</td>\n",
       "      <td>392</td>\n",
       "      <td>656</td>\n",
       "      <td>291</td>\n",
       "    </tr>\n",
       "    <tr>\n",
       "      <th>Porte de armas</th>\n",
       "      <td>458</td>\n",
       "      <td>392</td>\n",
       "      <td>599</td>\n",
       "      <td>615</td>\n",
       "      <td>658</td>\n",
       "      <td>655</td>\n",
       "      <td>484</td>\n",
       "      <td>572</td>\n",
       "      <td>562</td>\n",
       "      <td>593</td>\n",
       "      <td>539</td>\n",
       "      <td>546</td>\n",
       "    </tr>\n",
       "    <tr>\n",
       "      <th>Tenencia ilegal de armas o explosivos</th>\n",
       "      <td>95</td>\n",
       "      <td>63</td>\n",
       "      <td>111</td>\n",
       "      <td>112</td>\n",
       "      <td>87</td>\n",
       "      <td>110</td>\n",
       "      <td>101</td>\n",
       "      <td>104</td>\n",
       "      <td>91</td>\n",
       "      <td>103</td>\n",
       "      <td>121</td>\n",
       "      <td>102</td>\n",
       "    </tr>\n",
       "    <tr>\n",
       "      <th>Incivilidades</th>\n",
       "      <td>38322</td>\n",
       "      <td>33744</td>\n",
       "      <td>40130</td>\n",
       "      <td>36779</td>\n",
       "      <td>36135</td>\n",
       "      <td>33480</td>\n",
       "      <td>32571</td>\n",
       "      <td>37174</td>\n",
       "      <td>35065</td>\n",
       "      <td>36713</td>\n",
       "      <td>36562</td>\n",
       "      <td>37145</td>\n",
       "    </tr>\n",
       "    <tr>\n",
       "      <th>Amenazas</th>\n",
       "      <td>13391</td>\n",
       "      <td>11358</td>\n",
       "      <td>13825</td>\n",
       "      <td>12203</td>\n",
       "      <td>12142</td>\n",
       "      <td>11061</td>\n",
       "      <td>11066</td>\n",
       "      <td>13155</td>\n",
       "      <td>12728</td>\n",
       "      <td>13248</td>\n",
       "      <td>14189</td>\n",
       "      <td>14030</td>\n",
       "    </tr>\n",
       "    <tr>\n",
       "      <th>Comercio ambulante o clandestino</th>\n",
       "      <td>960</td>\n",
       "      <td>1089</td>\n",
       "      <td>1118</td>\n",
       "      <td>1159</td>\n",
       "      <td>1529</td>\n",
       "      <td>1234</td>\n",
       "      <td>1083</td>\n",
       "      <td>1245</td>\n",
       "      <td>898</td>\n",
       "      <td>940</td>\n",
       "      <td>1274</td>\n",
       "      <td>1376</td>\n",
       "    </tr>\n",
       "    <tr>\n",
       "      <th>Consumo alcohol vía pública</th>\n",
       "      <td>7920</td>\n",
       "      <td>6826</td>\n",
       "      <td>8160</td>\n",
       "      <td>7915</td>\n",
       "      <td>7285</td>\n",
       "      <td>6857</td>\n",
       "      <td>6125</td>\n",
       "      <td>7427</td>\n",
       "      <td>6355</td>\n",
       "      <td>7114</td>\n",
       "      <td>6079</td>\n",
       "      <td>6283</td>\n",
       "    </tr>\n",
       "    <tr>\n",
       "      <th>Daños</th>\n",
       "      <td>9821</td>\n",
       "      <td>8656</td>\n",
       "      <td>10780</td>\n",
       "      <td>10197</td>\n",
       "      <td>10262</td>\n",
       "      <td>9762</td>\n",
       "      <td>9675</td>\n",
       "      <td>10366</td>\n",
       "      <td>10034</td>\n",
       "      <td>10279</td>\n",
       "      <td>10235</td>\n",
       "      <td>10724</td>\n",
       "    </tr>\n",
       "    <tr>\n",
       "      <th>Desórdenes</th>\n",
       "      <td>115</td>\n",
       "      <td>148</td>\n",
       "      <td>224</td>\n",
       "      <td>218</td>\n",
       "      <td>186</td>\n",
       "      <td>152</td>\n",
       "      <td>151</td>\n",
       "      <td>201</td>\n",
       "      <td>290</td>\n",
       "      <td>285</td>\n",
       "      <td>187</td>\n",
       "      <td>173</td>\n",
       "    </tr>\n",
       "    <tr>\n",
       "      <th>Ebriedad</th>\n",
       "      <td>1363</td>\n",
       "      <td>1198</td>\n",
       "      <td>1344</td>\n",
       "      <td>1434</td>\n",
       "      <td>1463</td>\n",
       "      <td>1409</td>\n",
       "      <td>1429</td>\n",
       "      <td>1446</td>\n",
       "      <td>1359</td>\n",
       "      <td>1401</td>\n",
       "      <td>1235</td>\n",
       "      <td>1203</td>\n",
       "    </tr>\n",
       "    <tr>\n",
       "      <th>Otras incivilidades</th>\n",
       "      <td>4433</td>\n",
       "      <td>4209</td>\n",
       "      <td>4339</td>\n",
       "      <td>3396</td>\n",
       "      <td>2974</td>\n",
       "      <td>2752</td>\n",
       "      <td>2812</td>\n",
       "      <td>3072</td>\n",
       "      <td>3101</td>\n",
       "      <td>3158</td>\n",
       "      <td>3078</td>\n",
       "      <td>3005</td>\n",
       "    </tr>\n",
       "    <tr>\n",
       "      <th>Riña pública</th>\n",
       "      <td>309</td>\n",
       "      <td>259</td>\n",
       "      <td>335</td>\n",
       "      <td>253</td>\n",
       "      <td>288</td>\n",
       "      <td>248</td>\n",
       "      <td>224</td>\n",
       "      <td>259</td>\n",
       "      <td>294</td>\n",
       "      <td>286</td>\n",
       "      <td>282</td>\n",
       "      <td>347</td>\n",
       "    </tr>\n",
       "    <tr>\n",
       "      <th>Ruidos molestos</th>\n",
       "      <td>10</td>\n",
       "      <td>1</td>\n",
       "      <td>5</td>\n",
       "      <td>4</td>\n",
       "      <td>6</td>\n",
       "      <td>5</td>\n",
       "      <td>6</td>\n",
       "      <td>3</td>\n",
       "      <td>6</td>\n",
       "      <td>2</td>\n",
       "      <td>3</td>\n",
       "      <td>4</td>\n",
       "    </tr>\n",
       "    <tr>\n",
       "      <th>Abigeato</th>\n",
       "      <td>144</td>\n",
       "      <td>133</td>\n",
       "      <td>160</td>\n",
       "      <td>170</td>\n",
       "      <td>166</td>\n",
       "      <td>212</td>\n",
       "      <td>225</td>\n",
       "      <td>245</td>\n",
       "      <td>227</td>\n",
       "      <td>217</td>\n",
       "      <td>265</td>\n",
       "      <td>299</td>\n",
       "    </tr>\n",
       "    <tr>\n",
       "      <th>Abusos sexuales y otros delitos sexuales</th>\n",
       "      <td>1308</td>\n",
       "      <td>1144</td>\n",
       "      <td>1900</td>\n",
       "      <td>1862</td>\n",
       "      <td>1820</td>\n",
       "      <td>1478</td>\n",
       "      <td>1094</td>\n",
       "      <td>1692</td>\n",
       "      <td>1507</td>\n",
       "      <td>1652</td>\n",
       "      <td>1710</td>\n",
       "      <td>1343</td>\n",
       "    </tr>\n",
       "    <tr>\n",
       "      <th>Violencia intrafamiliar</th>\n",
       "      <td>14587</td>\n",
       "      <td>11873</td>\n",
       "      <td>13356</td>\n",
       "      <td>11646</td>\n",
       "      <td>11430</td>\n",
       "      <td>10811</td>\n",
       "      <td>10648</td>\n",
       "      <td>11612</td>\n",
       "      <td>11796</td>\n",
       "      <td>12064</td>\n",
       "      <td>12671</td>\n",
       "      <td>13708</td>\n",
       "    </tr>\n",
       "    <tr>\n",
       "      <th>Violencia intrafamiliar a adulto mayor</th>\n",
       "      <td>409</td>\n",
       "      <td>348</td>\n",
       "      <td>351</td>\n",
       "      <td>343</td>\n",
       "      <td>324</td>\n",
       "      <td>316</td>\n",
       "      <td>313</td>\n",
       "      <td>306</td>\n",
       "      <td>328</td>\n",
       "      <td>350</td>\n",
       "      <td>352</td>\n",
       "      <td>377</td>\n",
       "    </tr>\n",
       "    <tr>\n",
       "      <th>Violencia intrafamiliar a hombre</th>\n",
       "      <td>2341</td>\n",
       "      <td>1832</td>\n",
       "      <td>2028</td>\n",
       "      <td>1790</td>\n",
       "      <td>1778</td>\n",
       "      <td>1780</td>\n",
       "      <td>1659</td>\n",
       "      <td>1839</td>\n",
       "      <td>1898</td>\n",
       "      <td>1850</td>\n",
       "      <td>1990</td>\n",
       "      <td>2251</td>\n",
       "    </tr>\n",
       "    <tr>\n",
       "      <th>Violencia intrafamiliar a mujer</th>\n",
       "      <td>10935</td>\n",
       "      <td>8952</td>\n",
       "      <td>10017</td>\n",
       "      <td>8657</td>\n",
       "      <td>8486</td>\n",
       "      <td>7947</td>\n",
       "      <td>7992</td>\n",
       "      <td>8586</td>\n",
       "      <td>8756</td>\n",
       "      <td>8954</td>\n",
       "      <td>9362</td>\n",
       "      <td>10100</td>\n",
       "    </tr>\n",
       "    <tr>\n",
       "      <th>Violencia intrafamiliar a niño</th>\n",
       "      <td>259</td>\n",
       "      <td>248</td>\n",
       "      <td>326</td>\n",
       "      <td>328</td>\n",
       "      <td>319</td>\n",
       "      <td>287</td>\n",
       "      <td>229</td>\n",
       "      <td>337</td>\n",
       "      <td>319</td>\n",
       "      <td>345</td>\n",
       "      <td>351</td>\n",
       "      <td>275</td>\n",
       "    </tr>\n",
       "    <tr>\n",
       "      <th>Violencia intrafamiliar no clasificado</th>\n",
       "      <td>643</td>\n",
       "      <td>493</td>\n",
       "      <td>634</td>\n",
       "      <td>528</td>\n",
       "      <td>523</td>\n",
       "      <td>481</td>\n",
       "      <td>455</td>\n",
       "      <td>544</td>\n",
       "      <td>495</td>\n",
       "      <td>565</td>\n",
       "      <td>616</td>\n",
       "      <td>705</td>\n",
       "    </tr>\n",
       "    <tr>\n",
       "      <th>Receptación</th>\n",
       "      <td>852</td>\n",
       "      <td>750</td>\n",
       "      <td>990</td>\n",
       "      <td>932</td>\n",
       "      <td>1051</td>\n",
       "      <td>1018</td>\n",
       "      <td>902</td>\n",
       "      <td>1124</td>\n",
       "      <td>993</td>\n",
       "      <td>1079</td>\n",
       "      <td>1053</td>\n",
       "      <td>937</td>\n",
       "    </tr>\n",
       "    <tr>\n",
       "      <th>Robo frustrado</th>\n",
       "      <td>674</td>\n",
       "      <td>629</td>\n",
       "      <td>778</td>\n",
       "      <td>861</td>\n",
       "      <td>929</td>\n",
       "      <td>884</td>\n",
       "      <td>829</td>\n",
       "      <td>896</td>\n",
       "      <td>890</td>\n",
       "      <td>945</td>\n",
       "      <td>949</td>\n",
       "      <td>874</td>\n",
       "    </tr>\n",
       "  </tbody>\n",
       "</table>\n",
       "</div>"
      ],
      "text/plain": [
       "                                            enero  febrero  marzo  abril   \n",
       "Delitos                                                                    \n",
       "Delitos de mayor connotación social         35845    33029  40242  39155  \\\n",
       "Homicidios                                     95       83     81     47   \n",
       "Hurtos                                       8304     7818   9438   9268   \n",
       "Lesiones leves                               4342     3858   5326   4870   \n",
       "Lesiones menos graves, graves o gravísimas   1491     1335   1539   1374   \n",
       "Otros robos con fuerza                        620      584    762    720   \n",
       "Robo con violencia o intimidación            5574     5189   6433   6104   \n",
       "Robo de objetos de o desde vehículo          3670     3412   3979   3993   \n",
       "Robo de vehículo motorizado                  2839     2524   2975   2971   \n",
       "Robo en lugar habitado                       3349     3117   3385   3586   \n",
       "Robo en lugar no habitado                    3108     2815   3550   3633   \n",
       "Robo por sorpresa                            2075     1985   2309   2161   \n",
       "Violaciones                                   378      309    465    428   \n",
       "Infracción a ley de armas                     841      691   1020   1015   \n",
       "Abandono de armas                               0        0      0      0   \n",
       "Hallazgo de armas o explosivos                 49       45     46     40   \n",
       "Otros ley de armas                            239      191    264    248   \n",
       "Porte de armas                                458      392    599    615   \n",
       "Tenencia ilegal de armas o explosivos          95       63    111    112   \n",
       "Incivilidades                               38322    33744  40130  36779   \n",
       "Amenazas                                    13391    11358  13825  12203   \n",
       "Comercio ambulante o clandestino              960     1089   1118   1159   \n",
       "Consumo alcohol vía pública                  7920     6826   8160   7915   \n",
       "Daños                                        9821     8656  10780  10197   \n",
       "Desórdenes                                    115      148    224    218   \n",
       "Ebriedad                                     1363     1198   1344   1434   \n",
       "Otras incivilidades                          4433     4209   4339   3396   \n",
       "Riña pública                                  309      259    335    253   \n",
       "Ruidos molestos                                10        1      5      4   \n",
       "Abigeato                                      144      133    160    170   \n",
       "Abusos sexuales y otros delitos sexuales     1308     1144   1900   1862   \n",
       "Violencia intrafamiliar                     14587    11873  13356  11646   \n",
       "Violencia intrafamiliar a adulto mayor        409      348    351    343   \n",
       "Violencia intrafamiliar a hombre             2341     1832   2028   1790   \n",
       "Violencia intrafamiliar a mujer             10935     8952  10017   8657   \n",
       "Violencia intrafamiliar a niño                259      248    326    328   \n",
       "Violencia intrafamiliar no clasificado        643      493    634    528   \n",
       "Receptación                                   852      750    990    932   \n",
       "Robo frustrado                                674      629    778    861   \n",
       "\n",
       "                                             mayo  junio  julio  agosto   \n",
       "Delitos                                                                   \n",
       "Delitos de mayor connotación social         41363  39126  39564   43270  \\\n",
       "Homicidios                                     82     68     65      72   \n",
       "Hurtos                                       9721   9280   9788   10886   \n",
       "Lesiones leves                               5030   4124   3686    5108   \n",
       "Lesiones menos graves, graves o gravísimas   1338   1253   1224    1426   \n",
       "Otros robos con fuerza                        777    644    656     712   \n",
       "Robo con violencia o intimidación            6835   6716   6777    6896   \n",
       "Robo de objetos de o desde vehículo          4373   4196   4380    4667   \n",
       "Robo de vehículo motorizado                  2836   2695   2665    2688   \n",
       "Robo en lugar habitado                       3743   3772   3776    3765   \n",
       "Robo en lugar no habitado                    3877   3868   3879    4106   \n",
       "Robo por sorpresa                            2277   2124   2336    2535   \n",
       "Violaciones                                   474    386    332     409   \n",
       "Infracción a ley de armas                    1112   2099   1661    1031   \n",
       "Abandono de armas                               0      0      0       0   \n",
       "Hallazgo de armas o explosivos                 50     35     43      47   \n",
       "Otros ley de armas                            317   1299   1033     308   \n",
       "Porte de armas                                658    655    484     572   \n",
       "Tenencia ilegal de armas o explosivos          87    110    101     104   \n",
       "Incivilidades                               36135  33480  32571   37174   \n",
       "Amenazas                                    12142  11061  11066   13155   \n",
       "Comercio ambulante o clandestino             1529   1234   1083    1245   \n",
       "Consumo alcohol vía pública                  7285   6857   6125    7427   \n",
       "Daños                                       10262   9762   9675   10366   \n",
       "Desórdenes                                    186    152    151     201   \n",
       "Ebriedad                                     1463   1409   1429    1446   \n",
       "Otras incivilidades                          2974   2752   2812    3072   \n",
       "Riña pública                                  288    248    224     259   \n",
       "Ruidos molestos                                 6      5      6       3   \n",
       "Abigeato                                      166    212    225     245   \n",
       "Abusos sexuales y otros delitos sexuales     1820   1478   1094    1692   \n",
       "Violencia intrafamiliar                     11430  10811  10648   11612   \n",
       "Violencia intrafamiliar a adulto mayor        324    316    313     306   \n",
       "Violencia intrafamiliar a hombre             1778   1780   1659    1839   \n",
       "Violencia intrafamiliar a mujer              8486   7947   7992    8586   \n",
       "Violencia intrafamiliar a niño                319    287    229     337   \n",
       "Violencia intrafamiliar no clasificado        523    481    455     544   \n",
       "Receptación                                  1051   1018    902    1124   \n",
       "Robo frustrado                                929    884    829     896   \n",
       "\n",
       "                                            septiembre  octubre  noviembre   \n",
       "Delitos                                                                      \n",
       "Delitos de mayor connotación social              43089    44043      44317  \\\n",
       "Homicidios                                          98       84         85   \n",
       "Hurtos                                           10665    10511      10820   \n",
       "Lesiones leves                                    4940     5360       5538   \n",
       "Lesiones menos graves, graves o gravísimas        1521     1558       1618   \n",
       "Otros robos con fuerza                             730      762        806   \n",
       "Robo con violencia o intimidación                 6993     7014       6851   \n",
       "Robo de objetos de o desde vehículo               4478     4670       4695   \n",
       "Robo de vehículo motorizado                       2741     2890       2734   \n",
       "Robo en lugar habitado                            3844     3792       3629   \n",
       "Robo en lugar no habitado                         3871     4259       4323   \n",
       "Robo por sorpresa                                 2809     2699       2796   \n",
       "Violaciones                                        399      444        422   \n",
       "Infracción a ley de armas                         1205     1146       1356   \n",
       "Abandono de armas                                    0        0          0   \n",
       "Hallazgo de armas o explosivos                      34       58         40   \n",
       "Otros ley de armas                                 518      392        656   \n",
       "Porte de armas                                     562      593        539   \n",
       "Tenencia ilegal de armas o explosivos               91      103        121   \n",
       "Incivilidades                                    35065    36713      36562   \n",
       "Amenazas                                         12728    13248      14189   \n",
       "Comercio ambulante o clandestino                   898      940       1274   \n",
       "Consumo alcohol vía pública                       6355     7114       6079   \n",
       "Daños                                            10034    10279      10235   \n",
       "Desórdenes                                         290      285        187   \n",
       "Ebriedad                                          1359     1401       1235   \n",
       "Otras incivilidades                               3101     3158       3078   \n",
       "Riña pública                                       294      286        282   \n",
       "Ruidos molestos                                      6        2          3   \n",
       "Abigeato                                           227      217        265   \n",
       "Abusos sexuales y otros delitos sexuales          1507     1652       1710   \n",
       "Violencia intrafamiliar                          11796    12064      12671   \n",
       "Violencia intrafamiliar a adulto mayor             328      350        352   \n",
       "Violencia intrafamiliar a hombre                  1898     1850       1990   \n",
       "Violencia intrafamiliar a mujer                   8756     8954       9362   \n",
       "Violencia intrafamiliar a niño                     319      345        351   \n",
       "Violencia intrafamiliar no clasificado             495      565        616   \n",
       "Receptación                                        993     1079       1053   \n",
       "Robo frustrado                                     890      945        949   \n",
       "\n",
       "                                            diciembre  \n",
       "Delitos                                                \n",
       "Delitos de mayor connotación social             45225  \n",
       "Homicidios                                         74  \n",
       "Hurtos                                          11632  \n",
       "Lesiones leves                                   5430  \n",
       "Lesiones menos graves, graves o gravísimas       1714  \n",
       "Otros robos con fuerza                            753  \n",
       "Robo con violencia o intimidación                7186  \n",
       "Robo de objetos de o desde vehículo              4928  \n",
       "Robo de vehículo motorizado                      2782  \n",
       "Robo en lugar habitado                           3621  \n",
       "Robo en lugar no habitado                        3859  \n",
       "Robo por sorpresa                                2819  \n",
       "Violaciones                                       427  \n",
       "Infracción a ley de armas                         972  \n",
       "Abandono de armas                                   0  \n",
       "Hallazgo de armas o explosivos                     33  \n",
       "Otros ley de armas                                291  \n",
       "Porte de armas                                    546  \n",
       "Tenencia ilegal de armas o explosivos             102  \n",
       "Incivilidades                                   37145  \n",
       "Amenazas                                        14030  \n",
       "Comercio ambulante o clandestino                 1376  \n",
       "Consumo alcohol vía pública                      6283  \n",
       "Daños                                           10724  \n",
       "Desórdenes                                        173  \n",
       "Ebriedad                                         1203  \n",
       "Otras incivilidades                              3005  \n",
       "Riña pública                                      347  \n",
       "Ruidos molestos                                     4  \n",
       "Abigeato                                          299  \n",
       "Abusos sexuales y otros delitos sexuales         1343  \n",
       "Violencia intrafamiliar                         13708  \n",
       "Violencia intrafamiliar a adulto mayor            377  \n",
       "Violencia intrafamiliar a hombre                 2251  \n",
       "Violencia intrafamiliar a mujer                 10100  \n",
       "Violencia intrafamiliar a niño                    275  \n",
       "Violencia intrafamiliar no clasificado            705  \n",
       "Receptación                                       937  \n",
       "Robo frustrado                                    874  "
      ]
     },
     "execution_count": 9,
     "metadata": {},
     "output_type": "execute_result"
    }
   ],
   "source": [
    "df = pd.read_excel('dataset/2022seguridad.xlsx')\n",
    "df = df.set_index('Delitos')\n",
    "delito_buscado='Lesiones leves'\n",
    "df"
   ]
  },
  {
   "cell_type": "code",
   "execution_count": 10,
   "metadata": {},
   "outputs": [
    {
     "data": {
      "text/plain": [
       "enero         4342\n",
       "febrero       3858\n",
       "marzo         5326\n",
       "abril         4870\n",
       "mayo          5030\n",
       "junio         4124\n",
       "julio         3686\n",
       "agosto        5108\n",
       "septiembre    4940\n",
       "octubre       5360\n",
       "noviembre     5538\n",
       "diciembre     5430\n",
       "Name: Lesiones leves, dtype: int64"
      ]
     },
     "execution_count": 10,
     "metadata": {},
     "output_type": "execute_result"
    }
   ],
   "source": [
    "meses = df.columns[1:]\n",
    "# homicidios = df.iloc[1, 1:]\n",
    "homicidios = df.loc[delito_buscado]\n",
    "homicidios"
   ]
  },
  {
   "cell_type": "code",
   "execution_count": 11,
   "metadata": {},
   "outputs": [],
   "source": [
    "fig = go.Figure(data=go.Scatter(x=meses, y=homicidios, mode='lines', marker=dict(symbol='circle', size=8)))"
   ]
  },
  {
   "cell_type": "code",
   "execution_count": 12,
   "metadata": {},
   "outputs": [
    {
     "data": {
      "application/vnd.plotly.v1+json": {
       "config": {
        "plotlyServerURL": "https://plot.ly"
       },
       "data": [
        {
         "marker": {
          "size": 8,
          "symbol": "circle"
         },
         "mode": "lines",
         "type": "scatter",
         "x": [
          "febrero",
          "marzo",
          "abril",
          "mayo",
          "junio",
          "julio",
          "agosto",
          "septiembre",
          "octubre",
          "noviembre",
          "diciembre"
         ],
         "y": [
          4342,
          3858,
          5326,
          4870,
          5030,
          4124,
          3686,
          5108,
          4940,
          5360,
          5538,
          5430
         ]
        }
       ],
       "layout": {
        "template": {
         "data": {
          "bar": [
           {
            "error_x": {
             "color": "#2a3f5f"
            },
            "error_y": {
             "color": "#2a3f5f"
            },
            "marker": {
             "line": {
              "color": "#E5ECF6",
              "width": 0.5
             },
             "pattern": {
              "fillmode": "overlay",
              "size": 10,
              "solidity": 0.2
             }
            },
            "type": "bar"
           }
          ],
          "barpolar": [
           {
            "marker": {
             "line": {
              "color": "#E5ECF6",
              "width": 0.5
             },
             "pattern": {
              "fillmode": "overlay",
              "size": 10,
              "solidity": 0.2
             }
            },
            "type": "barpolar"
           }
          ],
          "carpet": [
           {
            "aaxis": {
             "endlinecolor": "#2a3f5f",
             "gridcolor": "white",
             "linecolor": "white",
             "minorgridcolor": "white",
             "startlinecolor": "#2a3f5f"
            },
            "baxis": {
             "endlinecolor": "#2a3f5f",
             "gridcolor": "white",
             "linecolor": "white",
             "minorgridcolor": "white",
             "startlinecolor": "#2a3f5f"
            },
            "type": "carpet"
           }
          ],
          "choropleth": [
           {
            "colorbar": {
             "outlinewidth": 0,
             "ticks": ""
            },
            "type": "choropleth"
           }
          ],
          "contour": [
           {
            "colorbar": {
             "outlinewidth": 0,
             "ticks": ""
            },
            "colorscale": [
             [
              0,
              "#0d0887"
             ],
             [
              0.1111111111111111,
              "#46039f"
             ],
             [
              0.2222222222222222,
              "#7201a8"
             ],
             [
              0.3333333333333333,
              "#9c179e"
             ],
             [
              0.4444444444444444,
              "#bd3786"
             ],
             [
              0.5555555555555556,
              "#d8576b"
             ],
             [
              0.6666666666666666,
              "#ed7953"
             ],
             [
              0.7777777777777778,
              "#fb9f3a"
             ],
             [
              0.8888888888888888,
              "#fdca26"
             ],
             [
              1,
              "#f0f921"
             ]
            ],
            "type": "contour"
           }
          ],
          "contourcarpet": [
           {
            "colorbar": {
             "outlinewidth": 0,
             "ticks": ""
            },
            "type": "contourcarpet"
           }
          ],
          "heatmap": [
           {
            "colorbar": {
             "outlinewidth": 0,
             "ticks": ""
            },
            "colorscale": [
             [
              0,
              "#0d0887"
             ],
             [
              0.1111111111111111,
              "#46039f"
             ],
             [
              0.2222222222222222,
              "#7201a8"
             ],
             [
              0.3333333333333333,
              "#9c179e"
             ],
             [
              0.4444444444444444,
              "#bd3786"
             ],
             [
              0.5555555555555556,
              "#d8576b"
             ],
             [
              0.6666666666666666,
              "#ed7953"
             ],
             [
              0.7777777777777778,
              "#fb9f3a"
             ],
             [
              0.8888888888888888,
              "#fdca26"
             ],
             [
              1,
              "#f0f921"
             ]
            ],
            "type": "heatmap"
           }
          ],
          "heatmapgl": [
           {
            "colorbar": {
             "outlinewidth": 0,
             "ticks": ""
            },
            "colorscale": [
             [
              0,
              "#0d0887"
             ],
             [
              0.1111111111111111,
              "#46039f"
             ],
             [
              0.2222222222222222,
              "#7201a8"
             ],
             [
              0.3333333333333333,
              "#9c179e"
             ],
             [
              0.4444444444444444,
              "#bd3786"
             ],
             [
              0.5555555555555556,
              "#d8576b"
             ],
             [
              0.6666666666666666,
              "#ed7953"
             ],
             [
              0.7777777777777778,
              "#fb9f3a"
             ],
             [
              0.8888888888888888,
              "#fdca26"
             ],
             [
              1,
              "#f0f921"
             ]
            ],
            "type": "heatmapgl"
           }
          ],
          "histogram": [
           {
            "marker": {
             "pattern": {
              "fillmode": "overlay",
              "size": 10,
              "solidity": 0.2
             }
            },
            "type": "histogram"
           }
          ],
          "histogram2d": [
           {
            "colorbar": {
             "outlinewidth": 0,
             "ticks": ""
            },
            "colorscale": [
             [
              0,
              "#0d0887"
             ],
             [
              0.1111111111111111,
              "#46039f"
             ],
             [
              0.2222222222222222,
              "#7201a8"
             ],
             [
              0.3333333333333333,
              "#9c179e"
             ],
             [
              0.4444444444444444,
              "#bd3786"
             ],
             [
              0.5555555555555556,
              "#d8576b"
             ],
             [
              0.6666666666666666,
              "#ed7953"
             ],
             [
              0.7777777777777778,
              "#fb9f3a"
             ],
             [
              0.8888888888888888,
              "#fdca26"
             ],
             [
              1,
              "#f0f921"
             ]
            ],
            "type": "histogram2d"
           }
          ],
          "histogram2dcontour": [
           {
            "colorbar": {
             "outlinewidth": 0,
             "ticks": ""
            },
            "colorscale": [
             [
              0,
              "#0d0887"
             ],
             [
              0.1111111111111111,
              "#46039f"
             ],
             [
              0.2222222222222222,
              "#7201a8"
             ],
             [
              0.3333333333333333,
              "#9c179e"
             ],
             [
              0.4444444444444444,
              "#bd3786"
             ],
             [
              0.5555555555555556,
              "#d8576b"
             ],
             [
              0.6666666666666666,
              "#ed7953"
             ],
             [
              0.7777777777777778,
              "#fb9f3a"
             ],
             [
              0.8888888888888888,
              "#fdca26"
             ],
             [
              1,
              "#f0f921"
             ]
            ],
            "type": "histogram2dcontour"
           }
          ],
          "mesh3d": [
           {
            "colorbar": {
             "outlinewidth": 0,
             "ticks": ""
            },
            "type": "mesh3d"
           }
          ],
          "parcoords": [
           {
            "line": {
             "colorbar": {
              "outlinewidth": 0,
              "ticks": ""
             }
            },
            "type": "parcoords"
           }
          ],
          "pie": [
           {
            "automargin": true,
            "type": "pie"
           }
          ],
          "scatter": [
           {
            "fillpattern": {
             "fillmode": "overlay",
             "size": 10,
             "solidity": 0.2
            },
            "type": "scatter"
           }
          ],
          "scatter3d": [
           {
            "line": {
             "colorbar": {
              "outlinewidth": 0,
              "ticks": ""
             }
            },
            "marker": {
             "colorbar": {
              "outlinewidth": 0,
              "ticks": ""
             }
            },
            "type": "scatter3d"
           }
          ],
          "scattercarpet": [
           {
            "marker": {
             "colorbar": {
              "outlinewidth": 0,
              "ticks": ""
             }
            },
            "type": "scattercarpet"
           }
          ],
          "scattergeo": [
           {
            "marker": {
             "colorbar": {
              "outlinewidth": 0,
              "ticks": ""
             }
            },
            "type": "scattergeo"
           }
          ],
          "scattergl": [
           {
            "marker": {
             "colorbar": {
              "outlinewidth": 0,
              "ticks": ""
             }
            },
            "type": "scattergl"
           }
          ],
          "scattermapbox": [
           {
            "marker": {
             "colorbar": {
              "outlinewidth": 0,
              "ticks": ""
             }
            },
            "type": "scattermapbox"
           }
          ],
          "scatterpolar": [
           {
            "marker": {
             "colorbar": {
              "outlinewidth": 0,
              "ticks": ""
             }
            },
            "type": "scatterpolar"
           }
          ],
          "scatterpolargl": [
           {
            "marker": {
             "colorbar": {
              "outlinewidth": 0,
              "ticks": ""
             }
            },
            "type": "scatterpolargl"
           }
          ],
          "scatterternary": [
           {
            "marker": {
             "colorbar": {
              "outlinewidth": 0,
              "ticks": ""
             }
            },
            "type": "scatterternary"
           }
          ],
          "surface": [
           {
            "colorbar": {
             "outlinewidth": 0,
             "ticks": ""
            },
            "colorscale": [
             [
              0,
              "#0d0887"
             ],
             [
              0.1111111111111111,
              "#46039f"
             ],
             [
              0.2222222222222222,
              "#7201a8"
             ],
             [
              0.3333333333333333,
              "#9c179e"
             ],
             [
              0.4444444444444444,
              "#bd3786"
             ],
             [
              0.5555555555555556,
              "#d8576b"
             ],
             [
              0.6666666666666666,
              "#ed7953"
             ],
             [
              0.7777777777777778,
              "#fb9f3a"
             ],
             [
              0.8888888888888888,
              "#fdca26"
             ],
             [
              1,
              "#f0f921"
             ]
            ],
            "type": "surface"
           }
          ],
          "table": [
           {
            "cells": {
             "fill": {
              "color": "#EBF0F8"
             },
             "line": {
              "color": "white"
             }
            },
            "header": {
             "fill": {
              "color": "#C8D4E3"
             },
             "line": {
              "color": "white"
             }
            },
            "type": "table"
           }
          ]
         },
         "layout": {
          "annotationdefaults": {
           "arrowcolor": "#2a3f5f",
           "arrowhead": 0,
           "arrowwidth": 1
          },
          "autotypenumbers": "strict",
          "coloraxis": {
           "colorbar": {
            "outlinewidth": 0,
            "ticks": ""
           }
          },
          "colorscale": {
           "diverging": [
            [
             0,
             "#8e0152"
            ],
            [
             0.1,
             "#c51b7d"
            ],
            [
             0.2,
             "#de77ae"
            ],
            [
             0.3,
             "#f1b6da"
            ],
            [
             0.4,
             "#fde0ef"
            ],
            [
             0.5,
             "#f7f7f7"
            ],
            [
             0.6,
             "#e6f5d0"
            ],
            [
             0.7,
             "#b8e186"
            ],
            [
             0.8,
             "#7fbc41"
            ],
            [
             0.9,
             "#4d9221"
            ],
            [
             1,
             "#276419"
            ]
           ],
           "sequential": [
            [
             0,
             "#0d0887"
            ],
            [
             0.1111111111111111,
             "#46039f"
            ],
            [
             0.2222222222222222,
             "#7201a8"
            ],
            [
             0.3333333333333333,
             "#9c179e"
            ],
            [
             0.4444444444444444,
             "#bd3786"
            ],
            [
             0.5555555555555556,
             "#d8576b"
            ],
            [
             0.6666666666666666,
             "#ed7953"
            ],
            [
             0.7777777777777778,
             "#fb9f3a"
            ],
            [
             0.8888888888888888,
             "#fdca26"
            ],
            [
             1,
             "#f0f921"
            ]
           ],
           "sequentialminus": [
            [
             0,
             "#0d0887"
            ],
            [
             0.1111111111111111,
             "#46039f"
            ],
            [
             0.2222222222222222,
             "#7201a8"
            ],
            [
             0.3333333333333333,
             "#9c179e"
            ],
            [
             0.4444444444444444,
             "#bd3786"
            ],
            [
             0.5555555555555556,
             "#d8576b"
            ],
            [
             0.6666666666666666,
             "#ed7953"
            ],
            [
             0.7777777777777778,
             "#fb9f3a"
            ],
            [
             0.8888888888888888,
             "#fdca26"
            ],
            [
             1,
             "#f0f921"
            ]
           ]
          },
          "colorway": [
           "#636efa",
           "#EF553B",
           "#00cc96",
           "#ab63fa",
           "#FFA15A",
           "#19d3f3",
           "#FF6692",
           "#B6E880",
           "#FF97FF",
           "#FECB52"
          ],
          "font": {
           "color": "#2a3f5f"
          },
          "geo": {
           "bgcolor": "white",
           "lakecolor": "white",
           "landcolor": "#E5ECF6",
           "showlakes": true,
           "showland": true,
           "subunitcolor": "white"
          },
          "hoverlabel": {
           "align": "left"
          },
          "hovermode": "closest",
          "mapbox": {
           "style": "light"
          },
          "paper_bgcolor": "white",
          "plot_bgcolor": "#E5ECF6",
          "polar": {
           "angularaxis": {
            "gridcolor": "white",
            "linecolor": "white",
            "ticks": ""
           },
           "bgcolor": "#E5ECF6",
           "radialaxis": {
            "gridcolor": "white",
            "linecolor": "white",
            "ticks": ""
           }
          },
          "scene": {
           "xaxis": {
            "backgroundcolor": "#E5ECF6",
            "gridcolor": "white",
            "gridwidth": 2,
            "linecolor": "white",
            "showbackground": true,
            "ticks": "",
            "zerolinecolor": "white"
           },
           "yaxis": {
            "backgroundcolor": "#E5ECF6",
            "gridcolor": "white",
            "gridwidth": 2,
            "linecolor": "white",
            "showbackground": true,
            "ticks": "",
            "zerolinecolor": "white"
           },
           "zaxis": {
            "backgroundcolor": "#E5ECF6",
            "gridcolor": "white",
            "gridwidth": 2,
            "linecolor": "white",
            "showbackground": true,
            "ticks": "",
            "zerolinecolor": "white"
           }
          },
          "shapedefaults": {
           "line": {
            "color": "#2a3f5f"
           }
          },
          "ternary": {
           "aaxis": {
            "gridcolor": "white",
            "linecolor": "white",
            "ticks": ""
           },
           "baxis": {
            "gridcolor": "white",
            "linecolor": "white",
            "ticks": ""
           },
           "bgcolor": "#E5ECF6",
           "caxis": {
            "gridcolor": "white",
            "linecolor": "white",
            "ticks": ""
           }
          },
          "title": {
           "x": 0.05
          },
          "xaxis": {
           "automargin": true,
           "gridcolor": "white",
           "linecolor": "white",
           "ticks": "",
           "title": {
            "standoff": 15
           },
           "zerolinecolor": "white",
           "zerolinewidth": 2
          },
          "yaxis": {
           "automargin": true,
           "gridcolor": "white",
           "linecolor": "white",
           "ticks": "",
           "title": {
            "standoff": 15
           },
           "zerolinecolor": "white",
           "zerolinewidth": 2
          }
         }
        },
        "title": {
         "text": "Lesiones leves2022 Chile"
        },
        "xaxis": {
         "title": {
          "text": "Meses"
         }
        },
        "yaxis": {
         "title": {
          "text": "Cantidad de Lesiones leves"
         }
        }
       }
      }
     },
     "metadata": {},
     "output_type": "display_data"
    }
   ],
   "source": [
    "fig.update_layout(\n",
    "    title=delito_buscado + '2022 Chile',\n",
    "    xaxis=dict(title='Meses'),\n",
    "    yaxis=dict(title='Cantidad de ' + delito_buscado)\n",
    ")"
   ]
  },
  {
   "cell_type": "code",
   "execution_count": 13,
   "metadata": {},
   "outputs": [
    {
     "data": {
      "application/vnd.plotly.v1+json": {
       "config": {
        "plotlyServerURL": "https://plot.ly"
       },
       "data": [
        {
         "type": "bar",
         "x": [
          "febrero",
          "marzo",
          "abril",
          "mayo",
          "junio",
          "julio",
          "agosto",
          "septiembre",
          "octubre",
          "noviembre",
          "diciembre"
         ],
         "y": [
          4342,
          3858,
          5326,
          4870,
          5030,
          4124,
          3686,
          5108,
          4940,
          5360,
          5538,
          5430
         ]
        }
       ],
       "layout": {
        "template": {
         "data": {
          "bar": [
           {
            "error_x": {
             "color": "#2a3f5f"
            },
            "error_y": {
             "color": "#2a3f5f"
            },
            "marker": {
             "line": {
              "color": "#E5ECF6",
              "width": 0.5
             },
             "pattern": {
              "fillmode": "overlay",
              "size": 10,
              "solidity": 0.2
             }
            },
            "type": "bar"
           }
          ],
          "barpolar": [
           {
            "marker": {
             "line": {
              "color": "#E5ECF6",
              "width": 0.5
             },
             "pattern": {
              "fillmode": "overlay",
              "size": 10,
              "solidity": 0.2
             }
            },
            "type": "barpolar"
           }
          ],
          "carpet": [
           {
            "aaxis": {
             "endlinecolor": "#2a3f5f",
             "gridcolor": "white",
             "linecolor": "white",
             "minorgridcolor": "white",
             "startlinecolor": "#2a3f5f"
            },
            "baxis": {
             "endlinecolor": "#2a3f5f",
             "gridcolor": "white",
             "linecolor": "white",
             "minorgridcolor": "white",
             "startlinecolor": "#2a3f5f"
            },
            "type": "carpet"
           }
          ],
          "choropleth": [
           {
            "colorbar": {
             "outlinewidth": 0,
             "ticks": ""
            },
            "type": "choropleth"
           }
          ],
          "contour": [
           {
            "colorbar": {
             "outlinewidth": 0,
             "ticks": ""
            },
            "colorscale": [
             [
              0,
              "#0d0887"
             ],
             [
              0.1111111111111111,
              "#46039f"
             ],
             [
              0.2222222222222222,
              "#7201a8"
             ],
             [
              0.3333333333333333,
              "#9c179e"
             ],
             [
              0.4444444444444444,
              "#bd3786"
             ],
             [
              0.5555555555555556,
              "#d8576b"
             ],
             [
              0.6666666666666666,
              "#ed7953"
             ],
             [
              0.7777777777777778,
              "#fb9f3a"
             ],
             [
              0.8888888888888888,
              "#fdca26"
             ],
             [
              1,
              "#f0f921"
             ]
            ],
            "type": "contour"
           }
          ],
          "contourcarpet": [
           {
            "colorbar": {
             "outlinewidth": 0,
             "ticks": ""
            },
            "type": "contourcarpet"
           }
          ],
          "heatmap": [
           {
            "colorbar": {
             "outlinewidth": 0,
             "ticks": ""
            },
            "colorscale": [
             [
              0,
              "#0d0887"
             ],
             [
              0.1111111111111111,
              "#46039f"
             ],
             [
              0.2222222222222222,
              "#7201a8"
             ],
             [
              0.3333333333333333,
              "#9c179e"
             ],
             [
              0.4444444444444444,
              "#bd3786"
             ],
             [
              0.5555555555555556,
              "#d8576b"
             ],
             [
              0.6666666666666666,
              "#ed7953"
             ],
             [
              0.7777777777777778,
              "#fb9f3a"
             ],
             [
              0.8888888888888888,
              "#fdca26"
             ],
             [
              1,
              "#f0f921"
             ]
            ],
            "type": "heatmap"
           }
          ],
          "heatmapgl": [
           {
            "colorbar": {
             "outlinewidth": 0,
             "ticks": ""
            },
            "colorscale": [
             [
              0,
              "#0d0887"
             ],
             [
              0.1111111111111111,
              "#46039f"
             ],
             [
              0.2222222222222222,
              "#7201a8"
             ],
             [
              0.3333333333333333,
              "#9c179e"
             ],
             [
              0.4444444444444444,
              "#bd3786"
             ],
             [
              0.5555555555555556,
              "#d8576b"
             ],
             [
              0.6666666666666666,
              "#ed7953"
             ],
             [
              0.7777777777777778,
              "#fb9f3a"
             ],
             [
              0.8888888888888888,
              "#fdca26"
             ],
             [
              1,
              "#f0f921"
             ]
            ],
            "type": "heatmapgl"
           }
          ],
          "histogram": [
           {
            "marker": {
             "pattern": {
              "fillmode": "overlay",
              "size": 10,
              "solidity": 0.2
             }
            },
            "type": "histogram"
           }
          ],
          "histogram2d": [
           {
            "colorbar": {
             "outlinewidth": 0,
             "ticks": ""
            },
            "colorscale": [
             [
              0,
              "#0d0887"
             ],
             [
              0.1111111111111111,
              "#46039f"
             ],
             [
              0.2222222222222222,
              "#7201a8"
             ],
             [
              0.3333333333333333,
              "#9c179e"
             ],
             [
              0.4444444444444444,
              "#bd3786"
             ],
             [
              0.5555555555555556,
              "#d8576b"
             ],
             [
              0.6666666666666666,
              "#ed7953"
             ],
             [
              0.7777777777777778,
              "#fb9f3a"
             ],
             [
              0.8888888888888888,
              "#fdca26"
             ],
             [
              1,
              "#f0f921"
             ]
            ],
            "type": "histogram2d"
           }
          ],
          "histogram2dcontour": [
           {
            "colorbar": {
             "outlinewidth": 0,
             "ticks": ""
            },
            "colorscale": [
             [
              0,
              "#0d0887"
             ],
             [
              0.1111111111111111,
              "#46039f"
             ],
             [
              0.2222222222222222,
              "#7201a8"
             ],
             [
              0.3333333333333333,
              "#9c179e"
             ],
             [
              0.4444444444444444,
              "#bd3786"
             ],
             [
              0.5555555555555556,
              "#d8576b"
             ],
             [
              0.6666666666666666,
              "#ed7953"
             ],
             [
              0.7777777777777778,
              "#fb9f3a"
             ],
             [
              0.8888888888888888,
              "#fdca26"
             ],
             [
              1,
              "#f0f921"
             ]
            ],
            "type": "histogram2dcontour"
           }
          ],
          "mesh3d": [
           {
            "colorbar": {
             "outlinewidth": 0,
             "ticks": ""
            },
            "type": "mesh3d"
           }
          ],
          "parcoords": [
           {
            "line": {
             "colorbar": {
              "outlinewidth": 0,
              "ticks": ""
             }
            },
            "type": "parcoords"
           }
          ],
          "pie": [
           {
            "automargin": true,
            "type": "pie"
           }
          ],
          "scatter": [
           {
            "fillpattern": {
             "fillmode": "overlay",
             "size": 10,
             "solidity": 0.2
            },
            "type": "scatter"
           }
          ],
          "scatter3d": [
           {
            "line": {
             "colorbar": {
              "outlinewidth": 0,
              "ticks": ""
             }
            },
            "marker": {
             "colorbar": {
              "outlinewidth": 0,
              "ticks": ""
             }
            },
            "type": "scatter3d"
           }
          ],
          "scattercarpet": [
           {
            "marker": {
             "colorbar": {
              "outlinewidth": 0,
              "ticks": ""
             }
            },
            "type": "scattercarpet"
           }
          ],
          "scattergeo": [
           {
            "marker": {
             "colorbar": {
              "outlinewidth": 0,
              "ticks": ""
             }
            },
            "type": "scattergeo"
           }
          ],
          "scattergl": [
           {
            "marker": {
             "colorbar": {
              "outlinewidth": 0,
              "ticks": ""
             }
            },
            "type": "scattergl"
           }
          ],
          "scattermapbox": [
           {
            "marker": {
             "colorbar": {
              "outlinewidth": 0,
              "ticks": ""
             }
            },
            "type": "scattermapbox"
           }
          ],
          "scatterpolar": [
           {
            "marker": {
             "colorbar": {
              "outlinewidth": 0,
              "ticks": ""
             }
            },
            "type": "scatterpolar"
           }
          ],
          "scatterpolargl": [
           {
            "marker": {
             "colorbar": {
              "outlinewidth": 0,
              "ticks": ""
             }
            },
            "type": "scatterpolargl"
           }
          ],
          "scatterternary": [
           {
            "marker": {
             "colorbar": {
              "outlinewidth": 0,
              "ticks": ""
             }
            },
            "type": "scatterternary"
           }
          ],
          "surface": [
           {
            "colorbar": {
             "outlinewidth": 0,
             "ticks": ""
            },
            "colorscale": [
             [
              0,
              "#0d0887"
             ],
             [
              0.1111111111111111,
              "#46039f"
             ],
             [
              0.2222222222222222,
              "#7201a8"
             ],
             [
              0.3333333333333333,
              "#9c179e"
             ],
             [
              0.4444444444444444,
              "#bd3786"
             ],
             [
              0.5555555555555556,
              "#d8576b"
             ],
             [
              0.6666666666666666,
              "#ed7953"
             ],
             [
              0.7777777777777778,
              "#fb9f3a"
             ],
             [
              0.8888888888888888,
              "#fdca26"
             ],
             [
              1,
              "#f0f921"
             ]
            ],
            "type": "surface"
           }
          ],
          "table": [
           {
            "cells": {
             "fill": {
              "color": "#EBF0F8"
             },
             "line": {
              "color": "white"
             }
            },
            "header": {
             "fill": {
              "color": "#C8D4E3"
             },
             "line": {
              "color": "white"
             }
            },
            "type": "table"
           }
          ]
         },
         "layout": {
          "annotationdefaults": {
           "arrowcolor": "#2a3f5f",
           "arrowhead": 0,
           "arrowwidth": 1
          },
          "autotypenumbers": "strict",
          "coloraxis": {
           "colorbar": {
            "outlinewidth": 0,
            "ticks": ""
           }
          },
          "colorscale": {
           "diverging": [
            [
             0,
             "#8e0152"
            ],
            [
             0.1,
             "#c51b7d"
            ],
            [
             0.2,
             "#de77ae"
            ],
            [
             0.3,
             "#f1b6da"
            ],
            [
             0.4,
             "#fde0ef"
            ],
            [
             0.5,
             "#f7f7f7"
            ],
            [
             0.6,
             "#e6f5d0"
            ],
            [
             0.7,
             "#b8e186"
            ],
            [
             0.8,
             "#7fbc41"
            ],
            [
             0.9,
             "#4d9221"
            ],
            [
             1,
             "#276419"
            ]
           ],
           "sequential": [
            [
             0,
             "#0d0887"
            ],
            [
             0.1111111111111111,
             "#46039f"
            ],
            [
             0.2222222222222222,
             "#7201a8"
            ],
            [
             0.3333333333333333,
             "#9c179e"
            ],
            [
             0.4444444444444444,
             "#bd3786"
            ],
            [
             0.5555555555555556,
             "#d8576b"
            ],
            [
             0.6666666666666666,
             "#ed7953"
            ],
            [
             0.7777777777777778,
             "#fb9f3a"
            ],
            [
             0.8888888888888888,
             "#fdca26"
            ],
            [
             1,
             "#f0f921"
            ]
           ],
           "sequentialminus": [
            [
             0,
             "#0d0887"
            ],
            [
             0.1111111111111111,
             "#46039f"
            ],
            [
             0.2222222222222222,
             "#7201a8"
            ],
            [
             0.3333333333333333,
             "#9c179e"
            ],
            [
             0.4444444444444444,
             "#bd3786"
            ],
            [
             0.5555555555555556,
             "#d8576b"
            ],
            [
             0.6666666666666666,
             "#ed7953"
            ],
            [
             0.7777777777777778,
             "#fb9f3a"
            ],
            [
             0.8888888888888888,
             "#fdca26"
            ],
            [
             1,
             "#f0f921"
            ]
           ]
          },
          "colorway": [
           "#636efa",
           "#EF553B",
           "#00cc96",
           "#ab63fa",
           "#FFA15A",
           "#19d3f3",
           "#FF6692",
           "#B6E880",
           "#FF97FF",
           "#FECB52"
          ],
          "font": {
           "color": "#2a3f5f"
          },
          "geo": {
           "bgcolor": "white",
           "lakecolor": "white",
           "landcolor": "#E5ECF6",
           "showlakes": true,
           "showland": true,
           "subunitcolor": "white"
          },
          "hoverlabel": {
           "align": "left"
          },
          "hovermode": "closest",
          "mapbox": {
           "style": "light"
          },
          "paper_bgcolor": "white",
          "plot_bgcolor": "#E5ECF6",
          "polar": {
           "angularaxis": {
            "gridcolor": "white",
            "linecolor": "white",
            "ticks": ""
           },
           "bgcolor": "#E5ECF6",
           "radialaxis": {
            "gridcolor": "white",
            "linecolor": "white",
            "ticks": ""
           }
          },
          "scene": {
           "xaxis": {
            "backgroundcolor": "#E5ECF6",
            "gridcolor": "white",
            "gridwidth": 2,
            "linecolor": "white",
            "showbackground": true,
            "ticks": "",
            "zerolinecolor": "white"
           },
           "yaxis": {
            "backgroundcolor": "#E5ECF6",
            "gridcolor": "white",
            "gridwidth": 2,
            "linecolor": "white",
            "showbackground": true,
            "ticks": "",
            "zerolinecolor": "white"
           },
           "zaxis": {
            "backgroundcolor": "#E5ECF6",
            "gridcolor": "white",
            "gridwidth": 2,
            "linecolor": "white",
            "showbackground": true,
            "ticks": "",
            "zerolinecolor": "white"
           }
          },
          "shapedefaults": {
           "line": {
            "color": "#2a3f5f"
           }
          },
          "ternary": {
           "aaxis": {
            "gridcolor": "white",
            "linecolor": "white",
            "ticks": ""
           },
           "baxis": {
            "gridcolor": "white",
            "linecolor": "white",
            "ticks": ""
           },
           "bgcolor": "#E5ECF6",
           "caxis": {
            "gridcolor": "white",
            "linecolor": "white",
            "ticks": ""
           }
          },
          "title": {
           "x": 0.05
          },
          "xaxis": {
           "automargin": true,
           "gridcolor": "white",
           "linecolor": "white",
           "ticks": "",
           "title": {
            "standoff": 15
           },
           "zerolinecolor": "white",
           "zerolinewidth": 2
          },
          "yaxis": {
           "automargin": true,
           "gridcolor": "white",
           "linecolor": "white",
           "ticks": "",
           "title": {
            "standoff": 15
           },
           "zerolinecolor": "white",
           "zerolinewidth": 2
          }
         }
        },
        "title": {
         "text": "Lesiones leves 2022 Chile"
        },
        "xaxis": {
         "title": {
          "text": "Meses"
         }
        },
        "yaxis": {
         "title": {
          "text": "Cantidad de Lesiones leves"
         }
        }
       }
      }
     },
     "metadata": {},
     "output_type": "display_data"
    }
   ],
   "source": [
    "fig = go.Figure(data=go.Bar(x=meses, y=homicidios))\n",
    "fig.update_layout(\n",
    "    title= delito_buscado + ' 2022 Chile',\n",
    "    xaxis=dict(title='Meses'),\n",
    "    yaxis=dict(title='Cantidad de ' + delito_buscado)\n",
    ")"
   ]
  }
 ],
 "metadata": {
  "kernelspec": {
   "display_name": "Python 3",
   "language": "python",
   "name": "python3"
  },
  "language_info": {
   "codemirror_mode": {
    "name": "ipython",
    "version": 3
   },
   "file_extension": ".py",
   "mimetype": "text/x-python",
   "name": "python",
   "nbconvert_exporter": "python",
   "pygments_lexer": "ipython3",
   "version": "3.10.10"
  },
  "orig_nbformat": 4
 },
 "nbformat": 4,
 "nbformat_minor": 2
}
